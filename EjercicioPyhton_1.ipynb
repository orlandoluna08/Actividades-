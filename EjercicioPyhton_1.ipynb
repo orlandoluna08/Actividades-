{
  "nbformat": 4,
  "nbformat_minor": 0,
  "metadata": {
    "colab": {
      "provenance": []
    },
    "kernelspec": {
      "name": "python3",
      "display_name": "Python 3"
    },
    "language_info": {
      "name": "python"
    }
  },
  "cells": [
    {
      "cell_type": "code",
      "execution_count": 23,
      "metadata": {
        "colab": {
          "base_uri": "https://localhost:8080/"
        },
        "id": "ojrUHCaufnRE",
        "outputId": "27020718-726e-4d7f-c194-b35ae9b17611"
      },
      "outputs": [
        {
          "output_type": "stream",
          "name": "stdout",
          "text": [
            "Ingrese un numero: 3456\n",
            "El numero es par\n"
          ]
        }
      ],
      "source": [
        "# ORLANDO ALDAIR BELTRAN LUNA\n",
        "# ACTIVIDAD 2 MATRICULA: 1878812 HORA: SABADO N1\n",
        "\n",
        "\n",
        "\n",
        "\n",
        "# Escribe un programa que solicite al usuario un número y que indique si es par o impar\n",
        "\n",
        "num= int (input(\"Ingrese un numero: \"))\n",
        "\n",
        "if(num%2 == 0):\n",
        "  print(\"El numero es par\")\n",
        "\n",
        "else:\n",
        "  print(\"El numero es impar\")\n",
        "\n"
      ]
    },
    {
      "cell_type": "code",
      "source": [
        "# Escribe un programa que tome una lista de números ingresados por el usuario y muestre la lista en orden inverso.\n",
        "\n",
        "entrada = input(\"Ingresa una lista de números: \")\n",
        "\n",
        "numeros = entrada.split(\",\")\n",
        "\n",
        "numeros_enteros = [int(numero.strip()) for numero in numeros]\n",
        "\n",
        "# Linea de codigo para poner la lista en orden inverso\n",
        "numeros_enteros.reverse()\n",
        "\n",
        "print(\"Lista en orden inverso:\", numeros_enteros)\n",
        "\n"
      ],
      "metadata": {
        "colab": {
          "base_uri": "https://localhost:8080/"
        },
        "id": "lP62c3wqwoqK",
        "outputId": "2d7d4ae2-1de8-4618-87ef-c3f12ab2470f"
      },
      "execution_count": 55,
      "outputs": [
        {
          "output_type": "stream",
          "name": "stdout",
          "text": [
            "Ingresa una lista de números: 10, 20, 30, 40, 50\n",
            "Lista en orden inverso: [50, 40, 30, 20, 10]\n"
          ]
        }
      ]
    },
    {
      "cell_type": "markdown",
      "source": [],
      "metadata": {
        "id": "iValho0xG6I6"
      }
    },
    {
      "cell_type": "code",
      "source": [
        "# EJERCICIO 3\n",
        "\n",
        "import random\n",
        "\n",
        "# Generar un número aleatorio entre 1 y 100\n",
        "numero_objetivo = random.randint(1, 100)\n",
        "\n",
        "intentos = 0\n",
        "\n",
        "while True:\n",
        "    # Solicitar al usuario que adivine el número\n",
        "    intento = int(input(\"Adivina el número (entre 1 y 100): \"))\n",
        "    intentos += 1\n",
        "\n",
        "    # Comprobar si el usuario adivinó el número\n",
        "    if intento == numero_objetivo:\n",
        "        print(f\"¡Felicidades! Adivinaste el número {numero_objetivo} en {intentos} intentos.\")\n",
        "        break\n",
        "    elif intento < numero_objetivo:\n",
        "        print(\"El número es mayor. ¡Sigue intentando!\")\n",
        "    else:\n",
        "        print(\"El número es menor. ¡Sigue intentando!\")\n",
        "\n",
        "\n",
        "\n"
      ],
      "metadata": {
        "colab": {
          "base_uri": "https://localhost:8080/"
        },
        "id": "5mDFXDWAB_Em",
        "outputId": "696f909b-60aa-4c1e-af37-f547c2cf9933"
      },
      "execution_count": 56,
      "outputs": [
        {
          "output_type": "stream",
          "name": "stdout",
          "text": [
            "Adivina el número (entre 1 y 100): 5\n",
            "El número es mayor. ¡Sigue intentando!\n",
            "Adivina el número (entre 1 y 100): 23\n",
            "El número es mayor. ¡Sigue intentando!\n",
            "Adivina el número (entre 1 y 100): 21\n",
            "El número es mayor. ¡Sigue intentando!\n",
            "Adivina el número (entre 1 y 100): 40\n",
            "El número es mayor. ¡Sigue intentando!\n",
            "Adivina el número (entre 1 y 100): 50\n",
            "El número es menor. ¡Sigue intentando!\n",
            "Adivina el número (entre 1 y 100): 45\n",
            "El número es menor. ¡Sigue intentando!\n",
            "Adivina el número (entre 1 y 100): 40\n",
            "El número es mayor. ¡Sigue intentando!\n",
            "Adivina el número (entre 1 y 100): 43\n",
            "El número es menor. ¡Sigue intentando!\n",
            "Adivina el número (entre 1 y 100): 41\n",
            "¡Felicidades! Adivinaste el número 41 en 9 intentos.\n"
          ]
        }
      ]
    },
    {
      "cell_type": "code",
      "source": [
        "#EJERCICIO 4\n",
        "\n",
        "# Función para verificar si un número es primo\n",
        "def es_primo(numero):\n",
        "    if numero <= 1:\n",
        "        return False\n",
        "    for i in range(2, int(numero**0.5) + 1):\n",
        "        if numero % i == 0:\n",
        "            return False\n",
        "    return True\n",
        "\n",
        "# Solicitar al usuario el rango de números\n",
        "inicio = int(input(\"Ingresa el número inicial del rango: \"))\n",
        "fin = int(input(\"Ingresa el número final del rango: \"))\n",
        "\n",
        "\n",
        "print(f\"Números primos en el rango de {inicio} a {fin}:\")\n",
        "for num in range(inicio, fin + 1):\n",
        "    if es_primo(num):\n",
        "        print(num)"
      ],
      "metadata": {
        "colab": {
          "base_uri": "https://localhost:8080/"
        },
        "id": "AeGclDYKDSb3",
        "outputId": "4dd8bfb9-f254-4563-82c2-ca32cdb66509"
      },
      "execution_count": 57,
      "outputs": [
        {
          "output_type": "stream",
          "name": "stdout",
          "text": [
            "Ingresa el número inicial del rango: 100\n",
            "Ingresa el número final del rango: 150\n",
            "Números primos en el rango de 100 a 150:\n",
            "101\n",
            "103\n",
            "107\n",
            "109\n",
            "113\n",
            "127\n",
            "131\n",
            "137\n",
            "139\n",
            "149\n"
          ]
        }
      ]
    }
  ]
}